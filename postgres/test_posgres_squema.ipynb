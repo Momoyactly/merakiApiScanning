{
 "cells": [
  {
   "cell_type": "code",
   "execution_count": 2,
   "metadata": {},
   "outputs": [],
   "source": [
    "from sqlalchemy import create_engine, text\n",
    "import json\n",
    "import os\n",
    "\n",
    "user = os.environ['POSTGRES_USER']\n",
    "password = os.environ['POSTGRES_PASSWORD']\n",
    "db   = os.environ['POSTGRES_DB']\n",
    "host   = \"localhost\""
   ]
  },
  {
   "cell_type": "code",
   "execution_count": 3,
   "metadata": {},
   "outputs": [],
   "source": [
    "\n",
    "engine = create_engine(f\"postgresql+psycopg2://{user}:{password}@{host}/{db}\",  future=True)"
   ]
  },
  {
   "cell_type": "code",
   "execution_count": 25,
   "metadata": {},
   "outputs": [
    {
     "name": "stdout",
     "output_type": "stream",
     "text": [
      "2022-02-02 13:23:11,265 INFO sqlalchemy.engine.Engine BEGIN (implicit)\n",
      "2022-02-02 13:23:11,268 INFO sqlalchemy.engine.Engine CREATE TABLE records_temp (id serial PRIMARY KEY, \n",
      "                                    time TIMESTAMP, clientMac VARCHAR,\n",
      "                                    ipv4 VARCHAR, ssid VARCHAR,\n",
      "                                    os VARCHAR, manufacturer VARCHAR,\n",
      "                                    nearestApMac VARCHAR, nearestApRssi SMALLINT)\n",
      "2022-02-02 13:23:11,268 INFO sqlalchemy.engine.Engine [generated in 0.00350s] {}\n",
      "2022-02-02 13:23:11,282 INFO sqlalchemy.engine.Engine COMMIT\n"
     ]
    }
   ],
   "source": [
    "with engine.connect() as conn:\n",
    "    stmt = \"\"\"CREATE TABLE records_temp (id serial PRIMARY KEY, \n",
    "                                    time TIMESTAMP, clientMac VARCHAR,\n",
    "                                    ipv4 VARCHAR, ssid VARCHAR,\n",
    "                                    os VARCHAR, manufacturer VARCHAR,\n",
    "                                    nearestApMac VARCHAR, nearestApRssi SMALLINT)\"\"\"\n",
    "    conn.execute(text(stmt))\n",
    "    conn.commit()"
   ]
  },
  {
   "cell_type": "code",
   "execution_count": 28,
   "metadata": {},
   "outputs": [
    {
     "name": "stdout",
     "output_type": "stream",
     "text": [
      "2022-02-02 13:25:32,068 INFO sqlalchemy.engine.Engine BEGIN (implicit)\n",
      "2022-02-02 13:25:32,072 INFO sqlalchemy.engine.Engine INSERT INTO records_temp (time, clientMac,nearestApRssi) VALUES (%(time)s, %(clientMac)s, %(nearestApRssi)s)\n",
      "2022-02-02 13:25:32,075 INFO sqlalchemy.engine.Engine [cached since 38.47s ago] ({'time': '2022-01-25 06:11:22', 'clientMac': '7c:2e:bd:0b:b2:bf', 'nearestApRssi': -51}, {'time': '2022-01-25 06:11:38', 'clientMac': '38:8b:59:48:21:ad', 'nearestApRssi': -51})\n",
      "2022-02-02 13:25:32,086 INFO sqlalchemy.engine.Engine COMMIT\n"
     ]
    }
   ],
   "source": [
    "with engine.connect() as conn:\n",
    "    conn.execute(\n",
    "        text(\"INSERT INTO records_temp (time, clientMac,nearestApRssi) VALUES (:time, :clientMac, :nearestApRssi)\"),\n",
    "        [{\"time\": \"2022-01-25 06:11:22\", \"clientMac\": \"7c:2e:bd:0b:b2:bf\",\"nearestApRssi\":-51}, {\"time\": \"2022-01-25 06:11:38\", \"clientMac\": \"38:8b:59:48:21:ad\",\"nearestApRssi\":-51}]\n",
    "    )\n",
    "    conn.commit()"
   ]
  },
  {
   "cell_type": "code",
   "execution_count": 29,
   "metadata": {},
   "outputs": [
    {
     "name": "stdout",
     "output_type": "stream",
     "text": [
      "2022-02-02 13:26:44,522 INFO sqlalchemy.engine.Engine BEGIN (implicit)\n",
      "2022-02-02 13:26:44,526 INFO sqlalchemy.engine.Engine INSERT INTO records_temp (time, clientmac, ipv4, ssid, os, manufacturer, nearestApMac,nearestApRssi)\n",
      "                    VALUES (%(time)s, %(clientmac)s, %(ipv4)s, %(ssid)s, %(os)s, %(manufacturer)s, %(nearestApMac)s, %(nearestApRssi)s)\n",
      "2022-02-02 13:26:44,531 INFO sqlalchemy.engine.Engine [cached since 454.5s ago] {'time': '2022-01-25 06:11:22', 'clientmac': '7c:2e:bd:0b:b2:bf', 'ipv4': None, 'ssid': None, 'os': None, 'manufacturer': 'Google', 'nearestApMac': 'e0:cb:bc:96:23:c0', 'nearestApRssi': -93}\n",
      "2022-02-02 13:26:44,538 INFO sqlalchemy.engine.Engine INSERT INTO records_temp (time, clientmac, ipv4, ssid, os, manufacturer, nearestApMac,nearestApRssi)\n",
      "                    VALUES (%(time)s, %(clientmac)s, %(ipv4)s, %(ssid)s, %(os)s, %(manufacturer)s, %(nearestApMac)s, %(nearestApRssi)s)\n",
      "2022-02-02 13:26:44,539 INFO sqlalchemy.engine.Engine [cached since 454.5s ago] {'time': '2022-01-25 06:11:38', 'clientmac': '38:8b:59:48:21:ad', 'ipv4': '192.168.20.47', 'ssid': 'Interno', 'os': None, 'manufacturer': 'Google', 'nearestApMac': 'e0:cb:bc:96:23:c0', 'nearestApRssi': -52}\n",
      "2022-02-02 13:26:44,543 INFO sqlalchemy.engine.Engine INSERT INTO records_temp (time, clientmac, ipv4, ssid, os, manufacturer, nearestApMac,nearestApRssi)\n",
      "                    VALUES (%(time)s, %(clientmac)s, %(ipv4)s, %(ssid)s, %(os)s, %(manufacturer)s, %(nearestApMac)s, %(nearestApRssi)s)\n",
      "2022-02-02 13:26:44,545 INFO sqlalchemy.engine.Engine [cached since 454.5s ago] {'time': '2022-01-25 06:11:52', 'clientmac': '24:f5:a2:1d:d3:2b', 'ipv4': None, 'ssid': None, 'os': None, 'manufacturer': 'Belkin', 'nearestApMac': 'e0:cb:bc:96:23:c0', 'nearestApRssi': -57}\n",
      "2022-02-02 13:26:44,548 INFO sqlalchemy.engine.Engine INSERT INTO records_temp (time, clientmac, ipv4, ssid, os, manufacturer, nearestApMac,nearestApRssi)\n",
      "                    VALUES (%(time)s, %(clientmac)s, %(ipv4)s, %(ssid)s, %(os)s, %(manufacturer)s, %(nearestApMac)s, %(nearestApRssi)s)\n",
      "2022-02-02 13:26:44,549 INFO sqlalchemy.engine.Engine [cached since 454.5s ago] {'time': '2022-01-25 06:11:59', 'clientmac': '98:da:c4:51:9f:3f', 'ipv4': None, 'ssid': None, 'os': None, 'manufacturer': 'TP-LINK Technologies', 'nearestApMac': 'e0:cb:bc:96:23:c0', 'nearestApRssi': -71}\n",
      "2022-02-02 13:26:44,552 INFO sqlalchemy.engine.Engine INSERT INTO records_temp (time, clientmac, ipv4, ssid, os, manufacturer, nearestApMac,nearestApRssi)\n",
      "                    VALUES (%(time)s, %(clientmac)s, %(ipv4)s, %(ssid)s, %(os)s, %(manufacturer)s, %(nearestApMac)s, %(nearestApRssi)s)\n",
      "2022-02-02 13:26:44,553 INFO sqlalchemy.engine.Engine [cached since 454.5s ago] {'time': '2022-01-25 06:11:22', 'clientmac': '44:fe:3b:e3:27:c2', 'ipv4': None, 'ssid': None, 'os': None, 'manufacturer': 'Arcadyan', 'nearestApMac': 'e0:cb:bc:96:23:c0', 'nearestApRssi': -81}\n",
      "2022-02-02 13:26:44,558 INFO sqlalchemy.engine.Engine INSERT INTO records_temp (time, clientmac, ipv4, ssid, os, manufacturer, nearestApMac,nearestApRssi)\n",
      "                    VALUES (%(time)s, %(clientmac)s, %(ipv4)s, %(ssid)s, %(os)s, %(manufacturer)s, %(nearestApMac)s, %(nearestApRssi)s)\n",
      "2022-02-02 13:26:44,559 INFO sqlalchemy.engine.Engine [cached since 454.5s ago] {'time': '2022-01-25 06:11:59', 'clientmac': '24:f5:a2:1d:d3:2a', 'ipv4': None, 'ssid': None, 'os': None, 'manufacturer': 'Belkin', 'nearestApMac': 'e0:cb:bc:96:23:c0', 'nearestApRssi': -73}\n",
      "2022-02-02 13:26:44,564 INFO sqlalchemy.engine.Engine INSERT INTO records_temp (time, clientmac, ipv4, ssid, os, manufacturer, nearestApMac,nearestApRssi)\n",
      "                    VALUES (%(time)s, %(clientmac)s, %(ipv4)s, %(ssid)s, %(os)s, %(manufacturer)s, %(nearestApMac)s, %(nearestApRssi)s)\n",
      "2022-02-02 13:26:44,565 INFO sqlalchemy.engine.Engine [cached since 454.5s ago] {'time': '2022-01-25 06:11:13', 'clientmac': '70:89:76:2f:fa:84', 'ipv4': None, 'ssid': None, 'os': None, 'manufacturer': 'Tuya Smart', 'nearestApMac': 'e0:cb:bc:96:23:c0', 'nearestApRssi': -89}\n",
      "2022-02-02 13:26:44,568 INFO sqlalchemy.engine.Engine INSERT INTO records_temp (time, clientmac, ipv4, ssid, os, manufacturer, nearestApMac,nearestApRssi)\n",
      "                    VALUES (%(time)s, %(clientmac)s, %(ipv4)s, %(ssid)s, %(os)s, %(manufacturer)s, %(nearestApMac)s, %(nearestApRssi)s)\n",
      "2022-02-02 13:26:44,570 INFO sqlalchemy.engine.Engine [cached since 454.5s ago] {'time': '2022-01-25 06:11:22', 'clientmac': '3c:84:6a:2a:51:b2', 'ipv4': None, 'ssid': None, 'os': None, 'manufacturer': 'TP-LINK Technologies', 'nearestApMac': 'e0:cb:bc:96:23:c0', 'nearestApRssi': -80}\n",
      "2022-02-02 13:26:44,573 INFO sqlalchemy.engine.Engine INSERT INTO records_temp (time, clientmac, ipv4, ssid, os, manufacturer, nearestApMac,nearestApRssi)\n",
      "                    VALUES (%(time)s, %(clientmac)s, %(ipv4)s, %(ssid)s, %(os)s, %(manufacturer)s, %(nearestApMac)s, %(nearestApRssi)s)\n",
      "2022-02-02 13:26:44,575 INFO sqlalchemy.engine.Engine [cached since 454.5s ago] {'time': '2022-01-25 06:11:21', 'clientmac': '48:a6:b8:33:47:78', 'ipv4': None, 'ssid': None, 'os': None, 'manufacturer': 'Sonos', 'nearestApMac': 'e0:cb:bc:96:23:c0', 'nearestApRssi': -85}\n",
      "2022-02-02 13:26:44,579 INFO sqlalchemy.engine.Engine INSERT INTO records_temp (time, clientmac, ipv4, ssid, os, manufacturer, nearestApMac,nearestApRssi)\n",
      "                    VALUES (%(time)s, %(clientmac)s, %(ipv4)s, %(ssid)s, %(os)s, %(manufacturer)s, %(nearestApMac)s, %(nearestApRssi)s)\n",
      "2022-02-02 13:26:44,580 INFO sqlalchemy.engine.Engine [cached since 454.5s ago] {'time': '2022-01-25 06:11:31', 'clientmac': 'f4:03:2a:d7:d9:68', 'ipv4': None, 'ssid': None, 'os': None, 'manufacturer': 'Amazon Technologies', 'nearestApMac': 'e0:cb:bc:96:23:c0', 'nearestApRssi': -84}\n",
      "2022-02-02 13:26:44,584 INFO sqlalchemy.engine.Engine INSERT INTO records_temp (time, clientmac, ipv4, ssid, os, manufacturer, nearestApMac,nearestApRssi)\n",
      "                    VALUES (%(time)s, %(clientmac)s, %(ipv4)s, %(ssid)s, %(os)s, %(manufacturer)s, %(nearestApMac)s, %(nearestApRssi)s)\n",
      "2022-02-02 13:26:44,585 INFO sqlalchemy.engine.Engine [cached since 454.5s ago] {'time': '2022-01-25 06:11:22', 'clientmac': '74:ee:2a:05:46:eb', 'ipv4': None, 'ssid': None, 'os': None, 'manufacturer': 'SHENZHEN BILIAN...', 'nearestApMac': 'e0:cb:bc:96:23:c0', 'nearestApRssi': -82}\n",
      "2022-02-02 13:26:44,588 INFO sqlalchemy.engine.Engine INSERT INTO records_temp (time, clientmac, ipv4, ssid, os, manufacturer, nearestApMac,nearestApRssi)\n",
      "                    VALUES (%(time)s, %(clientmac)s, %(ipv4)s, %(ssid)s, %(os)s, %(manufacturer)s, %(nearestApMac)s, %(nearestApRssi)s)\n",
      "2022-02-02 13:26:44,589 INFO sqlalchemy.engine.Engine [cached since 454.5s ago] {'time': '2022-01-25 06:11:59', 'clientmac': '00:95:69:e7:9b:4c', 'ipv4': None, 'ssid': None, 'os': None, 'manufacturer': 'LSD Science and...', 'nearestApMac': 'e0:cb:bc:96:23:c0', 'nearestApRssi': -69}\n",
      "2022-02-02 13:26:44,593 INFO sqlalchemy.engine.Engine INSERT INTO records_temp (time, clientmac, ipv4, ssid, os, manufacturer, nearestApMac,nearestApRssi)\n",
      "                    VALUES (%(time)s, %(clientmac)s, %(ipv4)s, %(ssid)s, %(os)s, %(manufacturer)s, %(nearestApMac)s, %(nearestApRssi)s)\n",
      "2022-02-02 13:26:44,595 INFO sqlalchemy.engine.Engine [cached since 454.5s ago] {'time': '2022-01-25 06:11:59', 'clientmac': '48:78:5e:e1:ad:c5', 'ipv4': None, 'ssid': None, 'os': None, 'manufacturer': 'Amazon Technologies', 'nearestApMac': 'e0:cb:bc:96:23:c0', 'nearestApRssi': -62}\n",
      "2022-02-02 13:26:44,598 INFO sqlalchemy.engine.Engine INSERT INTO records_temp (time, clientmac, ipv4, ssid, os, manufacturer, nearestApMac,nearestApRssi)\n",
      "                    VALUES (%(time)s, %(clientmac)s, %(ipv4)s, %(ssid)s, %(os)s, %(manufacturer)s, %(nearestApMac)s, %(nearestApRssi)s)\n",
      "2022-02-02 13:26:44,600 INFO sqlalchemy.engine.Engine [cached since 454.5s ago] {'time': '2022-01-25 06:11:22', 'clientmac': '5c:96:56:69:39:2d', 'ipv4': '192.168.20.4', 'ssid': 'Interno', 'os': 'PlayStation 4', 'manufacturer': 'AzureWave Technology', 'nearestApMac': 'e0:cb:bc:96:23:c0', 'nearestApRssi': -76}\n",
      "2022-02-02 13:26:44,604 INFO sqlalchemy.engine.Engine INSERT INTO records_temp (time, clientmac, ipv4, ssid, os, manufacturer, nearestApMac,nearestApRssi)\n",
      "                    VALUES (%(time)s, %(clientmac)s, %(ipv4)s, %(ssid)s, %(os)s, %(manufacturer)s, %(nearestApMac)s, %(nearestApRssi)s)\n",
      "2022-02-02 13:26:44,607 INFO sqlalchemy.engine.Engine [cached since 454.5s ago] {'time': '2022-01-25 06:11:22', 'clientmac': 'f0:ef:86:15:a0:3a', 'ipv4': None, 'ssid': None, 'os': None, 'manufacturer': 'Google', 'nearestApMac': 'e0:cb:bc:96:23:c0', 'nearestApRssi': -91}\n",
      "2022-02-02 13:26:44,609 INFO sqlalchemy.engine.Engine INSERT INTO records_temp (time, clientmac, ipv4, ssid, os, manufacturer, nearestApMac,nearestApRssi)\n",
      "                    VALUES (%(time)s, %(clientmac)s, %(ipv4)s, %(ssid)s, %(os)s, %(manufacturer)s, %(nearestApMac)s, %(nearestApRssi)s)\n",
      "2022-02-02 13:26:44,611 INFO sqlalchemy.engine.Engine [cached since 454.6s ago] {'time': '2022-01-25 06:11:22', 'clientmac': '50:ed:3c:1a:cf:33', 'ipv4': None, 'ssid': None, 'os': None, 'manufacturer': 'Apple', 'nearestApMac': 'e0:cb:bc:96:23:c0', 'nearestApRssi': -87}\n",
      "2022-02-02 13:26:44,614 INFO sqlalchemy.engine.Engine INSERT INTO records_temp (time, clientmac, ipv4, ssid, os, manufacturer, nearestApMac,nearestApRssi)\n",
      "                    VALUES (%(time)s, %(clientmac)s, %(ipv4)s, %(ssid)s, %(os)s, %(manufacturer)s, %(nearestApMac)s, %(nearestApRssi)s)\n",
      "2022-02-02 13:26:44,615 INFO sqlalchemy.engine.Engine [cached since 454.6s ago] {'time': '2022-01-25 06:11:51', 'clientmac': '90:a8:22:86:d8:f0', 'ipv4': None, 'ssid': None, 'os': None, 'manufacturer': 'Amazon Technologies', 'nearestApMac': 'e0:cb:bc:96:23:c0', 'nearestApRssi': -81}\n",
      "2022-02-02 13:26:44,619 INFO sqlalchemy.engine.Engine INSERT INTO records_temp (time, clientmac, ipv4, ssid, os, manufacturer, nearestApMac,nearestApRssi)\n",
      "                    VALUES (%(time)s, %(clientmac)s, %(ipv4)s, %(ssid)s, %(os)s, %(manufacturer)s, %(nearestApMac)s, %(nearestApRssi)s)\n",
      "2022-02-02 13:26:44,622 INFO sqlalchemy.engine.Engine [cached since 454.6s ago] {'time': '2022-01-25 06:11:01', 'clientmac': '58:a0:23:80:8e:f5', 'ipv4': '192.168.20.39', 'ssid': 'Interno', 'os': None, 'manufacturer': 'Intel', 'nearestApMac': 'e0:cb:bc:96:23:c0', 'nearestApRssi': -45}\n",
      "2022-02-02 13:26:44,626 INFO sqlalchemy.engine.Engine INSERT INTO records_temp (time, clientmac, ipv4, ssid, os, manufacturer, nearestApMac,nearestApRssi)\n",
      "                    VALUES (%(time)s, %(clientmac)s, %(ipv4)s, %(ssid)s, %(os)s, %(manufacturer)s, %(nearestApMac)s, %(nearestApRssi)s)\n",
      "2022-02-02 13:26:44,629 INFO sqlalchemy.engine.Engine [cached since 454.6s ago] {'time': '2022-01-25 06:11:32', 'clientmac': '48:a6:b8:33:47:77', 'ipv4': None, 'ssid': None, 'os': None, 'manufacturer': 'Sonos', 'nearestApMac': 'e0:cb:bc:96:23:c0', 'nearestApRssi': -74}\n",
      "2022-02-02 13:26:44,634 INFO sqlalchemy.engine.Engine INSERT INTO records_temp (time, clientmac, ipv4, ssid, os, manufacturer, nearestApMac,nearestApRssi)\n",
      "                    VALUES (%(time)s, %(clientmac)s, %(ipv4)s, %(ssid)s, %(os)s, %(manufacturer)s, %(nearestApMac)s, %(nearestApRssi)s)\n",
      "2022-02-02 13:26:44,642 INFO sqlalchemy.engine.Engine [cached since 454.6s ago] {'time': '2022-01-25 06:11:26', 'clientmac': 'ac:ae:19:54:6c:ba', 'ipv4': None, 'ssid': None, 'os': None, 'manufacturer': 'Roku', 'nearestApMac': 'e0:cb:bc:96:23:c0', 'nearestApRssi': -75}\n",
      "2022-02-02 13:26:44,649 INFO sqlalchemy.engine.Engine INSERT INTO records_temp (time, clientmac, ipv4, ssid, os, manufacturer, nearestApMac,nearestApRssi)\n",
      "                    VALUES (%(time)s, %(clientmac)s, %(ipv4)s, %(ssid)s, %(os)s, %(manufacturer)s, %(nearestApMac)s, %(nearestApRssi)s)\n",
      "2022-02-02 13:26:44,651 INFO sqlalchemy.engine.Engine [cached since 454.6s ago] {'time': '2022-01-25 06:11:59', 'clientmac': '00:95:69:e7:9b:1b', 'ipv4': None, 'ssid': None, 'os': None, 'manufacturer': 'LSD Science and...', 'nearestApMac': 'e0:cb:bc:96:23:c0', 'nearestApRssi': -83}\n",
      "2022-02-02 13:26:44,656 INFO sqlalchemy.engine.Engine INSERT INTO records_temp (time, clientmac, ipv4, ssid, os, manufacturer, nearestApMac,nearestApRssi)\n",
      "                    VALUES (%(time)s, %(clientmac)s, %(ipv4)s, %(ssid)s, %(os)s, %(manufacturer)s, %(nearestApMac)s, %(nearestApRssi)s)\n",
      "2022-02-02 13:26:44,657 INFO sqlalchemy.engine.Engine [cached since 454.6s ago] {'time': '2022-01-25 06:11:04', 'clientmac': 'cc:50:e3:e2:18:3e', 'ipv4': None, 'ssid': None, 'os': None, 'manufacturer': 'Espressif', 'nearestApMac': 'e0:cb:bc:96:23:c0', 'nearestApRssi': -70}\n",
      "2022-02-02 13:26:44,662 INFO sqlalchemy.engine.Engine INSERT INTO records_temp (time, clientmac, ipv4, ssid, os, manufacturer, nearestApMac,nearestApRssi)\n",
      "                    VALUES (%(time)s, %(clientmac)s, %(ipv4)s, %(ssid)s, %(os)s, %(manufacturer)s, %(nearestApMac)s, %(nearestApRssi)s)\n",
      "2022-02-02 13:26:44,663 INFO sqlalchemy.engine.Engine [cached since 454.6s ago] {'time': '2022-01-25 06:11:42', 'clientmac': 'c8:b2:9b:48:8e:6f', 'ipv4': '192.168.30.15', 'ssid': 'work', 'os': 'Windows 10', 'manufacturer': 'Intel', 'nearestApMac': 'e0:cb:bc:96:23:c0', 'nearestApRssi': -57}\n",
      "2022-02-02 13:26:44,668 INFO sqlalchemy.engine.Engine INSERT INTO records_temp (time, clientmac, ipv4, ssid, os, manufacturer, nearestApMac,nearestApRssi)\n",
      "                    VALUES (%(time)s, %(clientmac)s, %(ipv4)s, %(ssid)s, %(os)s, %(manufacturer)s, %(nearestApMac)s, %(nearestApRssi)s)\n",
      "2022-02-02 13:26:44,670 INFO sqlalchemy.engine.Engine [cached since 454.6s ago] {'time': '2022-01-25 06:11:22', 'clientmac': 'b8:dd:71:f3:d3:b0', 'ipv4': None, 'ssid': None, 'os': None, 'manufacturer': 'zte', 'nearestApMac': 'e0:cb:bc:96:23:c0', 'nearestApRssi': -69}\n",
      "2022-02-02 13:26:44,673 INFO sqlalchemy.engine.Engine INSERT INTO records_temp (time, clientmac, ipv4, ssid, os, manufacturer, nearestApMac,nearestApRssi)\n",
      "                    VALUES (%(time)s, %(clientmac)s, %(ipv4)s, %(ssid)s, %(os)s, %(manufacturer)s, %(nearestApMac)s, %(nearestApRssi)s)\n",
      "2022-02-02 13:26:44,674 INFO sqlalchemy.engine.Engine [cached since 454.6s ago] {'time': '2022-01-25 06:11:22', 'clientmac': '54:92:09:eb:15:ec', 'ipv4': None, 'ssid': None, 'os': None, 'manufacturer': 'Huawei Technologies', 'nearestApMac': 'e0:cb:bc:96:23:c0', 'nearestApRssi': -87}\n",
      "2022-02-02 13:26:44,679 INFO sqlalchemy.engine.Engine INSERT INTO records_temp (time, clientmac, ipv4, ssid, os, manufacturer, nearestApMac,nearestApRssi)\n",
      "                    VALUES (%(time)s, %(clientmac)s, %(ipv4)s, %(ssid)s, %(os)s, %(manufacturer)s, %(nearestApMac)s, %(nearestApRssi)s)\n",
      "2022-02-02 13:26:44,681 INFO sqlalchemy.engine.Engine [cached since 454.6s ago] {'time': '2022-01-25 06:11:59', 'clientmac': '8c:49:62:ec:8b:ce', 'ipv4': None, 'ssid': None, 'os': None, 'manufacturer': 'Roku', 'nearestApMac': 'e0:cb:bc:96:23:c0', 'nearestApRssi': -90}\n",
      "2022-02-02 13:26:44,686 INFO sqlalchemy.engine.Engine INSERT INTO records_temp (time, clientmac, ipv4, ssid, os, manufacturer, nearestApMac,nearestApRssi)\n",
      "                    VALUES (%(time)s, %(clientmac)s, %(ipv4)s, %(ssid)s, %(os)s, %(manufacturer)s, %(nearestApMac)s, %(nearestApRssi)s)\n",
      "2022-02-02 13:26:44,688 INFO sqlalchemy.engine.Engine [cached since 454.6s ago] {'time': '2022-01-25 06:11:22', 'clientmac': '00:95:69:d5:da:6a', 'ipv4': None, 'ssid': None, 'os': None, 'manufacturer': 'LSD Science and...', 'nearestApMac': 'e0:cb:bc:96:23:c0', 'nearestApRssi': -86}\n",
      "2022-02-02 13:26:44,694 INFO sqlalchemy.engine.Engine INSERT INTO records_temp (time, clientmac, ipv4, ssid, os, manufacturer, nearestApMac,nearestApRssi)\n",
      "                    VALUES (%(time)s, %(clientmac)s, %(ipv4)s, %(ssid)s, %(os)s, %(manufacturer)s, %(nearestApMac)s, %(nearestApRssi)s)\n",
      "2022-02-02 13:26:44,695 INFO sqlalchemy.engine.Engine [cached since 454.6s ago] {'time': '2022-01-25 06:11:22', 'clientmac': '48:98:ca:05:3b:cb', 'ipv4': None, 'ssid': None, 'os': None, 'manufacturer': 'SichuanAI-LinkTechnolog...', 'nearestApMac': 'e0:cb:bc:96:23:c0', 'nearestApRssi': -78}\n",
      "2022-02-02 13:26:44,700 INFO sqlalchemy.engine.Engine INSERT INTO records_temp (time, clientmac, ipv4, ssid, os, manufacturer, nearestApMac,nearestApRssi)\n",
      "                    VALUES (%(time)s, %(clientmac)s, %(ipv4)s, %(ssid)s, %(os)s, %(manufacturer)s, %(nearestApMac)s, %(nearestApRssi)s)\n",
      "2022-02-02 13:26:44,701 INFO sqlalchemy.engine.Engine [cached since 454.6s ago] {'time': '2022-01-25 06:11:22', 'clientmac': 'b0:a7:b9:32:4f:9a', 'ipv4': None, 'ssid': None, 'os': None, 'manufacturer': 'TP-Link', 'nearestApMac': 'e0:cb:bc:96:23:c0', 'nearestApRssi': -65}\n",
      "2022-02-02 13:26:44,704 INFO sqlalchemy.engine.Engine INSERT INTO records_temp (time, clientmac, ipv4, ssid, os, manufacturer, nearestApMac,nearestApRssi)\n",
      "                    VALUES (%(time)s, %(clientmac)s, %(ipv4)s, %(ssid)s, %(os)s, %(manufacturer)s, %(nearestApMac)s, %(nearestApRssi)s)\n",
      "2022-02-02 13:26:44,706 INFO sqlalchemy.engine.Engine [cached since 454.6s ago] {'time': '2022-01-25 06:11:05', 'clientmac': '08:12:a5:93:e3:b4', 'ipv4': None, 'ssid': None, 'os': None, 'manufacturer': 'Amazon Technologies', 'nearestApMac': 'e0:cb:bc:96:23:c0', 'nearestApRssi': -73}\n",
      "2022-02-02 13:26:44,710 INFO sqlalchemy.engine.Engine INSERT INTO records_temp (time, clientmac, ipv4, ssid, os, manufacturer, nearestApMac,nearestApRssi)\n",
      "                    VALUES (%(time)s, %(clientmac)s, %(ipv4)s, %(ssid)s, %(os)s, %(manufacturer)s, %(nearestApMac)s, %(nearestApRssi)s)\n",
      "2022-02-02 13:26:44,712 INFO sqlalchemy.engine.Engine [cached since 454.7s ago] {'time': '2022-01-25 06:11:22', 'clientmac': '48:d6:d5:32:a9:f8', 'ipv4': None, 'ssid': None, 'os': None, 'manufacturer': 'Google', 'nearestApMac': 'e0:cb:bc:96:23:c0', 'nearestApRssi': -78}\n",
      "2022-02-02 13:26:44,715 INFO sqlalchemy.engine.Engine INSERT INTO records_temp (time, clientmac, ipv4, ssid, os, manufacturer, nearestApMac,nearestApRssi)\n",
      "                    VALUES (%(time)s, %(clientmac)s, %(ipv4)s, %(ssid)s, %(os)s, %(manufacturer)s, %(nearestApMac)s, %(nearestApRssi)s)\n",
      "2022-02-02 13:26:44,717 INFO sqlalchemy.engine.Engine [cached since 454.7s ago] {'time': '2022-01-25 06:11:22', 'clientmac': 'd8:0d:17:e7:d2:91', 'ipv4': '192.168.20.3', 'ssid': 'Interno', 'os': None, 'manufacturer': 'TP-LINK Technologies', 'nearestApMac': 'e0:cb:bc:96:23:c0', 'nearestApRssi': -55}\n",
      "2022-02-02 13:26:44,720 INFO sqlalchemy.engine.Engine INSERT INTO records_temp (time, clientmac, ipv4, ssid, os, manufacturer, nearestApMac,nearestApRssi)\n",
      "                    VALUES (%(time)s, %(clientmac)s, %(ipv4)s, %(ssid)s, %(os)s, %(manufacturer)s, %(nearestApMac)s, %(nearestApRssi)s)\n",
      "2022-02-02 13:26:44,722 INFO sqlalchemy.engine.Engine [cached since 454.7s ago] {'time': '2022-01-25 06:11:52', 'clientmac': '00:95:69:e7:9b:58', 'ipv4': None, 'ssid': None, 'os': None, 'manufacturer': 'LSD Science and...', 'nearestApMac': 'e0:cb:bc:96:23:c0', 'nearestApRssi': -78}\n",
      "2022-02-02 13:26:44,725 INFO sqlalchemy.engine.Engine INSERT INTO records_temp (time, clientmac, ipv4, ssid, os, manufacturer, nearestApMac,nearestApRssi)\n",
      "                    VALUES (%(time)s, %(clientmac)s, %(ipv4)s, %(ssid)s, %(os)s, %(manufacturer)s, %(nearestApMac)s, %(nearestApRssi)s)\n",
      "2022-02-02 13:26:44,727 INFO sqlalchemy.engine.Engine [cached since 454.7s ago] {'time': '2022-01-25 06:11:04', 'clientmac': 'f4:bf:80:55:95:53', 'ipv4': None, 'ssid': None, 'os': None, 'manufacturer': 'Huawei Technologies', 'nearestApMac': 'e0:cb:bc:96:23:c0', 'nearestApRssi': -94}\n",
      "2022-02-02 13:26:44,731 INFO sqlalchemy.engine.Engine INSERT INTO records_temp (time, clientmac, ipv4, ssid, os, manufacturer, nearestApMac,nearestApRssi)\n",
      "                    VALUES (%(time)s, %(clientmac)s, %(ipv4)s, %(ssid)s, %(os)s, %(manufacturer)s, %(nearestApMac)s, %(nearestApRssi)s)\n",
      "2022-02-02 13:26:44,734 INFO sqlalchemy.engine.Engine [cached since 454.7s ago] {'time': '2022-01-25 06:11:52', 'clientmac': '48:a6:b8:33:47:76', 'ipv4': None, 'ssid': None, 'os': None, 'manufacturer': 'Sonos', 'nearestApMac': 'e0:cb:bc:96:23:c0', 'nearestApRssi': -74}\n",
      "2022-02-02 13:26:44,741 INFO sqlalchemy.engine.Engine INSERT INTO records_temp (time, clientmac, ipv4, ssid, os, manufacturer, nearestApMac,nearestApRssi)\n",
      "                    VALUES (%(time)s, %(clientmac)s, %(ipv4)s, %(ssid)s, %(os)s, %(manufacturer)s, %(nearestApMac)s, %(nearestApRssi)s)\n",
      "2022-02-02 13:26:44,744 INFO sqlalchemy.engine.Engine [cached since 454.7s ago] {'time': '2022-01-25 06:11:22', 'clientmac': '94:e6:f7:a0:5b:81', 'ipv4': None, 'ssid': None, 'os': None, 'manufacturer': 'Intel', 'nearestApMac': 'e0:cb:bc:96:23:c0', 'nearestApRssi': -93}\n",
      "2022-02-02 13:26:44,749 INFO sqlalchemy.engine.Engine INSERT INTO records_temp (time, clientmac, ipv4, ssid, os, manufacturer, nearestApMac,nearestApRssi)\n",
      "                    VALUES (%(time)s, %(clientmac)s, %(ipv4)s, %(ssid)s, %(os)s, %(manufacturer)s, %(nearestApMac)s, %(nearestApRssi)s)\n",
      "2022-02-02 13:26:44,751 INFO sqlalchemy.engine.Engine [cached since 454.7s ago] {'time': '2022-01-25 06:11:22', 'clientmac': '5c:c1:d7:a8:3e:f0', 'ipv4': '192.168.20.42', 'ssid': 'Interno', 'os': None, 'manufacturer': 'Samsung', 'nearestApMac': 'e0:cb:bc:96:23:c0', 'nearestApRssi': -74}\n",
      "2022-02-02 13:26:44,756 INFO sqlalchemy.engine.Engine INSERT INTO records_temp (time, clientmac, ipv4, ssid, os, manufacturer, nearestApMac,nearestApRssi)\n",
      "                    VALUES (%(time)s, %(clientmac)s, %(ipv4)s, %(ssid)s, %(os)s, %(manufacturer)s, %(nearestApMac)s, %(nearestApRssi)s)\n",
      "2022-02-02 13:26:44,759 INFO sqlalchemy.engine.Engine [cached since 454.7s ago] {'time': '2022-01-25 06:11:18', 'clientmac': 'a8:6b:ad:9f:d1:52', 'ipv4': None, 'ssid': None, 'os': None, 'manufacturer': 'Hon Hai/Foxconn', 'nearestApMac': 'e0:cb:bc:96:23:c0', 'nearestApRssi': -66}\n",
      "2022-02-02 13:26:44,766 INFO sqlalchemy.engine.Engine INSERT INTO records_temp (time, clientmac, ipv4, ssid, os, manufacturer, nearestApMac,nearestApRssi)\n",
      "                    VALUES (%(time)s, %(clientmac)s, %(ipv4)s, %(ssid)s, %(os)s, %(manufacturer)s, %(nearestApMac)s, %(nearestApRssi)s)\n",
      "2022-02-02 13:26:44,768 INFO sqlalchemy.engine.Engine [cached since 454.7s ago] {'time': '2022-01-25 06:11:22', 'clientmac': '14:c1:4e:a8:49:57', 'ipv4': None, 'ssid': None, 'os': None, 'manufacturer': 'Google', 'nearestApMac': 'e0:cb:bc:96:23:c0', 'nearestApRssi': -89}\n",
      "2022-02-02 13:26:44,774 INFO sqlalchemy.engine.Engine INSERT INTO records_temp (time, clientmac, ipv4, ssid, os, manufacturer, nearestApMac,nearestApRssi)\n",
      "                    VALUES (%(time)s, %(clientmac)s, %(ipv4)s, %(ssid)s, %(os)s, %(manufacturer)s, %(nearestApMac)s, %(nearestApRssi)s)\n",
      "2022-02-02 13:26:44,775 INFO sqlalchemy.engine.Engine [cached since 454.7s ago] {'time': '2022-01-25 06:11:22', 'clientmac': '5c:52:1e:9d:43:5d', 'ipv4': '192.168.20.51', 'ssid': 'Interno', 'os': 'Nokia', 'manufacturer': 'Nintendo', 'nearestApMac': 'e0:cb:bc:96:23:c0', 'nearestApRssi': -64}\n",
      "2022-02-02 13:26:44,781 INFO sqlalchemy.engine.Engine COMMIT\n"
     ]
    }
   ],
   "source": [
    "with open('../scripts/postExampleV3.json') as f:\n",
    "    data = json.load(f)\n",
    "    with engine.connect() as conn:\n",
    "        for row in data['data']['observations']:\n",
    "            for key,value in row['latestRecord'].items():\n",
    "                row[key] = value\n",
    "            stmt = \"\"\"INSERT INTO records_temp (time, clientmac, ipv4, ssid, os, manufacturer, nearestApMac,nearestApRssi)\n",
    "                    VALUES (:time, :clientmac, :ipv4, :ssid, :os, :manufacturer, :nearestApMac, :nearestApRssi)\"\"\"\n",
    "            conn.execute(text(stmt),[{\"time\":\" \".join(row[\"time\"][:-1].split('T')), \"clientmac\":row[\"clientMac\"],\"ipv4\":row[\"ipv4\"],\n",
    "                                    \"ssid\":row[\"ssid\"],\"os\":row['os'],\"manufacturer\":row[\"manufacturer\"],\n",
    "                                    \"nearestApMac\":row['nearestApMac'],\"nearestApRssi\": int(row['nearestApRssi'])}]) \n",
    "        conn.commit()\n"
   ]
  },
  {
   "cell_type": "code",
   "execution_count": 16,
   "metadata": {},
   "outputs": [
    {
     "name": "stdout",
     "output_type": "stream",
     "text": [
      "2022-02-02 13:04:40,479 INFO sqlalchemy.engine.Engine BEGIN (implicit)\n",
      "2022-02-02 13:04:40,482 INFO sqlalchemy.engine.Engine SELECT * FROM records_temp\n",
      "2022-02-02 13:04:40,484 INFO sqlalchemy.engine.Engine [cached since 130s ago] {}\n",
      "(1, datetime.datetime(2022, 1, 25, 6, 11, 22), '7c:2e:bd:0b:b2:bf', None, None, None, None, None, None)\n",
      "(2, datetime.datetime(2022, 1, 25, 6, 11, 38), '38:8b:59:48:21:ad', None, None, None, None, None, None)\n",
      "2022-02-02 13:04:40,489 INFO sqlalchemy.engine.Engine ROLLBACK\n"
     ]
    }
   ],
   "source": [
    "with engine.connect() as conn:\n",
    "    result = conn.execute(text(\"SELECT * FROM records_temp\"))\n",
    "    for row in result:\n",
    "        print(row)\n",
    "        "
   ]
  },
  {
   "cell_type": "code",
   "execution_count": 15,
   "metadata": {},
   "outputs": [
    {
     "ename": "FileNotFoundError",
     "evalue": "[Errno 2] No such file or directory: 'postExampleV3.json'",
     "output_type": "error",
     "traceback": [
      "\u001b[0;31m---------------------------------------------------------------------------\u001b[0m",
      "\u001b[0;31mFileNotFoundError\u001b[0m                         Traceback (most recent call last)",
      "Input \u001b[0;32mIn [15]\u001b[0m, in \u001b[0;36m<module>\u001b[0;34m\u001b[0m\n\u001b[0;32m----> 1\u001b[0m \u001b[38;5;28;01mwith\u001b[39;00m \u001b[38;5;28;43mopen\u001b[39;49m\u001b[43m(\u001b[49m\u001b[38;5;124;43m'\u001b[39;49m\u001b[38;5;124;43mpostExampleV3.json\u001b[39;49m\u001b[38;5;124;43m'\u001b[39;49m\u001b[43m)\u001b[49m \u001b[38;5;28;01mas\u001b[39;00m f:\n\u001b[1;32m      2\u001b[0m     data \u001b[38;5;241m=\u001b[39m json\u001b[38;5;241m.\u001b[39mload(f)\n\u001b[1;32m      3\u001b[0m     \u001b[38;5;28;01mfor\u001b[39;00m row \u001b[38;5;129;01min\u001b[39;00m data[\u001b[38;5;124m'\u001b[39m\u001b[38;5;124mdata\u001b[39m\u001b[38;5;124m'\u001b[39m][\u001b[38;5;124m'\u001b[39m\u001b[38;5;124mobservations\u001b[39m\u001b[38;5;124m'\u001b[39m][:\u001b[38;5;241m3\u001b[39m]:\n",
      "\u001b[0;31mFileNotFoundError\u001b[0m: [Errno 2] No such file or directory: 'postExampleV3.json'"
     ]
    }
   ],
   "source": [
    "with open('postExampleV3.json') as f:\n",
    "    data = json.load(f)\n",
    "    for row in data['data']['observations'][:3]:\n",
    "        for key,value in row['latestRecord'].items():\n",
    "            row[key] = value\n",
    "    print(data['data']['observations'][1])\n",
    "        "
   ]
  },
  {
   "cell_type": "code",
   "execution_count": 5,
   "metadata": {},
   "outputs": [],
   "source": [
    "with engine.connect() as conn:\n",
    "    result = conn.execute(text(\"DROP TABLE records\"))\n",
    "    conn.commit()\n",
    "     "
   ]
  }
 ],
 "metadata": {
  "interpreter": {
   "hash": "26622286f56418425bddcc2e578c96daffd80be3b6a49142124284b9a4ebc9c9"
  },
  "kernelspec": {
   "display_name": "Python 3.9.5 64-bit ('merakiApiScanning-Lj1eDggC': venv)",
   "language": "python",
   "name": "python3"
  },
  "language_info": {
   "codemirror_mode": {
    "name": "ipython",
    "version": 3
   },
   "file_extension": ".py",
   "mimetype": "text/x-python",
   "name": "python",
   "nbconvert_exporter": "python",
   "pygments_lexer": "ipython3",
   "version": "3.9.5"
  },
  "orig_nbformat": 4
 },
 "nbformat": 4,
 "nbformat_minor": 2
}
